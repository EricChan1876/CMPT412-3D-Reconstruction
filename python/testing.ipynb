{
 "cells": [
  {
   "cell_type": "code",
   "execution_count": 1,
   "id": "118c64b4",
   "metadata": {},
   "outputs": [],
   "source": [
    "import numpy as np\n",
    "import matplotlib.pyplot as plt\n",
    "import cv2\n",
    "import scipy.io as sio\n",
    "from PIL import Image\n",
    "from eightpoint import eightpoint\n",
    "from epipolarCorrespondence import epipolarCorrespondence\n",
    "from essentialMatrix import essentialMatrix\n",
    "from camera2 import camera2\n",
    "from triangulate import triangulate\n",
    "from displayEpipolarF import displayEpipolarF\n",
    "from epipolarMatchGUI import epipolarMatchGUI"
   ]
  },
  {
   "cell_type": "code",
   "execution_count": 2,
   "id": "af870c7e",
   "metadata": {},
   "outputs": [],
   "source": [
    "img1 = cv2.imread('../data/im1.png')\n",
    "img2 = cv2.imread('../data/im2.png')\n",
    "pts = np.load('../data/someCorresp.npy', allow_pickle=True).tolist()"
   ]
  },
  {
   "cell_type": "code",
   "execution_count": 3,
   "id": "4b7da3f9",
   "metadata": {},
   "outputs": [],
   "source": [
    "pts1 = pts['pts1']      #(x,y) coordinate in piture 1\n",
    "pts2 = pts['pts2']      #(x,y) coordinate in piture 2\n",
    "M = pts['M']            #scalar parameter\n",
    "\n",
    "# write your code here\n",
    "R1, t1 = np.eye(3), np.zeros((3, 1))\n",
    "R2, t2 = np.eye(3), np.zeros((3, 1))\n"
   ]
  },
  {
   "cell_type": "code",
   "execution_count": 4,
   "id": "b2f76c96",
   "metadata": {},
   "outputs": [],
   "source": [
    "F = eightpoint(pts1, pts2, M)"
   ]
  },
  {
   "cell_type": "code",
   "execution_count": 5,
   "id": "c5cb202b",
   "metadata": {},
   "outputs": [
    {
     "data": {
      "text/plain": [
       "(110, 2)"
      ]
     },
     "execution_count": 5,
     "metadata": {},
     "output_type": "execute_result"
    }
   ],
   "source": [
    "pts1.shape"
   ]
  },
  {
   "cell_type": "code",
   "execution_count": 6,
   "id": "580f1a91",
   "metadata": {},
   "outputs": [],
   "source": [
    "F = eightpoint(pts1, pts2, M)"
   ]
  },
  {
   "cell_type": "code",
   "execution_count": 7,
   "id": "c9563e13",
   "metadata": {},
   "outputs": [
    {
     "name": "stdout",
     "output_type": "stream",
     "text": [
      "[[-1.33678811e-09  2.31692438e-08  5.53459462e-06]\n",
      " [ 6.29438961e-08 -1.61713023e-09 -5.11123511e-04]\n",
      " [-1.41707030e-05  4.92078162e-04  1.98672341e-03]]\n"
     ]
    }
   ],
   "source": [
    "print(F)"
   ]
  },
  {
   "cell_type": "code",
   "execution_count": null,
   "id": "3858ddf0",
   "metadata": {},
   "outputs": [],
   "source": []
  },
  {
   "cell_type": "code",
   "execution_count": 8,
   "id": "77a4746e",
   "metadata": {},
   "outputs": [
    {
     "data": {
      "text/plain": [
       "1440.0"
      ]
     },
     "execution_count": 8,
     "metadata": {},
     "output_type": "execute_result"
    }
   ],
   "source": [
    "M"
   ]
  },
  {
   "cell_type": "code",
   "execution_count": 9,
   "id": "560c3d1d",
   "metadata": {},
   "outputs": [],
   "source": [
    "pts = np.load('../data/templeCoords.npy', allow_pickle=True).tolist()\n",
    "pts1=pts['pts1']"
   ]
  },
  {
   "cell_type": "code",
   "execution_count": 10,
   "id": "b4e5bd8e",
   "metadata": {},
   "outputs": [],
   "source": [
    "pts2 = np.zeros_like(pts1)\n",
    "\n",
    "# Iterate through each point in pts1 and find its corresponding point in im2\n",
    "for i in range(pts1.shape[0]):\n",
    "    pts2[i] = epipolarCorrespondence(img1, img2, F, np.array([pts1[i]]))"
   ]
  },
  {
   "cell_type": "code",
   "execution_count": 11,
   "id": "c1e20bdd",
   "metadata": {},
   "outputs": [],
   "source": [
    "K = np.load('../data/intrinsics.npy', allow_pickle=True).tolist()\n",
    "K1=K['K1']\n",
    "K2 = K ['K2']\n",
    "E = essentialMatrix(F, K1, K2)"
   ]
  },
  {
   "cell_type": "code",
   "execution_count": 12,
   "id": "7d333de5",
   "metadata": {},
   "outputs": [],
   "source": [
    "P1 = K1 @ np.hstack((np.eye(3), np.zeros((3, 1))))"
   ]
  },
  {
   "cell_type": "code",
   "execution_count": 13,
   "id": "addc2a5c",
   "metadata": {},
   "outputs": [],
   "source": [
    "P2Candidates = camera2(E)"
   ]
  },
  {
   "cell_type": "code",
   "execution_count": 14,
   "id": "27fd0b2c",
   "metadata": {},
   "outputs": [
    {
     "data": {
      "text/plain": [
       "(3, 4, 4)"
      ]
     },
     "execution_count": 14,
     "metadata": {},
     "output_type": "execute_result"
    }
   ],
   "source": [
    "P2Candidates.shape"
   ]
  },
  {
   "cell_type": "code",
   "execution_count": 15,
   "id": "b546506e",
   "metadata": {},
   "outputs": [],
   "source": [
    "pts3d_candidate = triangulate(P1, pts1, P2Candidates[:, :, 1], pts2)"
   ]
  },
  {
   "cell_type": "code",
   "execution_count": 16,
   "id": "92c2d62e",
   "metadata": {},
   "outputs": [
    {
     "data": {
      "text/plain": [
       "array([[ 5.93614289e-03,  9.56058866e-03, -7.56399676e-02],\n",
       "       [ 6.53057118e-03,  9.25951702e-03, -7.56103047e-02],\n",
       "       [ 7.04180951e-03,  9.17857595e-03, -7.57602924e-02],\n",
       "       [ 7.62810015e-03,  9.06542024e-03, -7.56447002e-02],\n",
       "       [ 8.30560820e-03,  9.10405792e-03, -7.63850135e-02],\n",
       "       [ 8.45068627e-03,  8.49722547e-03, -7.58834095e-02],\n",
       "       [ 8.31816882e-03,  7.57657760e-03, -7.51374548e-02],\n",
       "       [ 8.41575674e-03,  6.84599315e-03, -7.46880500e-02],\n",
       "       [ 8.57229970e-03,  6.27832445e-03, -7.43417195e-02],\n",
       "       [ 8.56601826e-03,  5.46363761e-03, -7.38663179e-02],\n",
       "       [ 8.29064950e-03,  4.86370173e-03, -7.35783567e-02],\n",
       "       [ 8.11889387e-03,  4.31915433e-03, -7.33384095e-02],\n",
       "       [ 8.18480843e-03,  3.72849403e-03, -7.30657664e-02],\n",
       "       [ 7.96966192e-03,  3.09710639e-03, -7.28563739e-02],\n",
       "       [ 8.32605156e-03,  2.65878694e-03, -7.26213432e-02],\n",
       "       [ 8.44217196e-03,  2.03354627e-03, -7.23884567e-02],\n",
       "       [ 8.37523786e-03,  1.46090260e-03, -7.22219175e-02],\n",
       "       [ 8.12853553e-03,  9.86481386e-04, -7.21403624e-02],\n",
       "       [ 8.15910776e-03,  4.65474445e-04, -7.19915618e-02],\n",
       "       [ 7.82295361e-03, -6.31880495e-06, -7.19483359e-02],\n",
       "       [ 7.58037095e-03, -5.71685580e-04, -7.18916936e-02],\n",
       "       [ 7.47247016e-03, -1.32315138e-03, -7.17637423e-02],\n",
       "       [ 7.50705426e-03, -1.93129903e-03, -7.16434207e-02],\n",
       "       [ 7.35902865e-03, -2.49246102e-03, -7.15786722e-02],\n",
       "       [ 7.34842938e-03, -3.14465198e-03, -7.14756537e-02],\n",
       "       [ 7.29405172e-03, -3.79660007e-03, -7.14035889e-02],\n",
       "       [ 7.28795135e-03, -4.30773261e-03, -7.13439074e-02],\n",
       "       [ 7.23438725e-03, -4.95775660e-03, -7.12785340e-02],\n",
       "       [ 7.22689746e-03, -5.65258548e-03, -7.12047917e-02],\n",
       "       [ 7.22008500e-03, -6.39317987e-03, -7.11377140e-02],\n",
       "       [ 7.26128054e-03, -6.99385537e-03, -7.10829948e-02],\n",
       "       [ 7.21163391e-03, -7.54983807e-03, -7.10544959e-02],\n",
       "       [ 7.29597653e-03, -8.05199010e-03, -7.09658247e-02],\n",
       "       [ 7.61772187e-03, -8.09320163e-03, -7.09194235e-02],\n",
       "       [ 7.98287896e-03, -8.22438587e-03, -7.08484116e-02],\n",
       "       [ 8.16129300e-03, -8.49466269e-03, -7.07792503e-02],\n",
       "       [ 8.20117823e-03, -8.99758458e-03, -7.07217928e-02],\n",
       "       [ 8.56528969e-03, -8.98917669e-03, -7.06557381e-02],\n",
       "       [ 8.60740326e-03, -9.44743583e-03, -7.06199977e-02],\n",
       "       [ 8.64873630e-03, -9.90438608e-03, -7.05782782e-02],\n",
       "       [ 9.14546355e-03, -1.00740841e-02, -7.04711921e-02],\n",
       "       [ 9.09634597e-03, -1.05788824e-02, -7.04497740e-02],\n",
       "       [ 9.41111400e-03, -1.06603599e-02, -7.03781110e-02],\n",
       "       [ 9.40763002e-03, -1.11174653e-02, -7.03520698e-02],\n",
       "       [ 9.04415282e-03, -1.13102655e-02, -7.04042124e-02],\n",
       "       [ 8.63552441e-03, -1.14594723e-02, -7.04705321e-02],\n",
       "       [ 8.13547251e-03, -1.17044845e-02, -7.05554762e-02],\n",
       "       [ 7.77802381e-03, -1.17716060e-02, -7.06807615e-02],\n",
       "       [ 7.08959005e-03, -1.18327643e-02, -7.07694942e-02],\n",
       "       [ 6.58750215e-03, -1.20828580e-02, -7.08761854e-02],\n",
       "       [ 6.08013287e-03, -1.22330993e-02, -7.09393594e-02],\n",
       "       [ 5.57492208e-03, -1.23904089e-02, -7.10415868e-02],\n",
       "       [ 5.01850637e-03, -1.25408045e-02, -7.11023911e-02],\n",
       "       [ 4.51138927e-03, -1.26544626e-02, -7.12174929e-02],\n",
       "       [ 3.99886345e-03, -1.27565168e-02, -7.12661623e-02],\n",
       "       [ 3.48741217e-03, -1.28652341e-02, -7.13510333e-02],\n",
       "       [ 3.11441611e-03, -1.28285037e-02, -7.14068510e-02],\n",
       "       [ 2.60181183e-03, -1.27076916e-02, -7.15169773e-02],\n",
       "       [ 1.94591161e-03, -1.26779603e-02, -7.16137631e-02],\n",
       "       [ 1.33549721e-03, -1.24140717e-02, -7.17160214e-02],\n",
       "       [ 8.17515193e-04, -1.22391870e-02, -7.17929250e-02],\n",
       "       [ 2.51211981e-04, -1.21137523e-02, -7.18861525e-02],\n",
       "       [-2.21843099e-04, -1.19388452e-02, -7.19677266e-02],\n",
       "       [-8.38543556e-04, -1.16748856e-02, -7.20851549e-02],\n",
       "       [-1.45653809e-03, -1.15934599e-02, -7.21664276e-02],\n",
       "       [-2.07625606e-03, -1.14189934e-02, -7.22595057e-02],\n",
       "       [-2.50649512e-03, -1.12882271e-02, -7.23318959e-02],\n",
       "       [-2.98504913e-03, -1.12039981e-02, -7.24002337e-02],\n",
       "       [-3.36884343e-03, -1.10235270e-02, -7.24614835e-02],\n",
       "       [-3.84924741e-03, -1.09394043e-02, -7.25334333e-02],\n",
       "       [-4.28245837e-03, -1.07589558e-02, -7.25988196e-02],\n",
       "       [-4.33235063e-03, -1.02406735e-02, -7.26347958e-02],\n",
       "       [-4.43066472e-03, -9.67552749e-03, -7.26803807e-02],\n",
       "       [-4.38398793e-03, -9.29687593e-03, -7.26991286e-02],\n",
       "       [-4.04737503e-03, -9.14963856e-03, -7.26649227e-02],\n",
       "       [-4.04894786e-03, -8.72444579e-03, -7.26932216e-02],\n",
       "       [-3.80974242e-03, -8.29537863e-03, -7.26904946e-02],\n",
       "       [-3.47350716e-03, -8.14879087e-03, -7.26577314e-02],\n",
       "       [-3.42677190e-03, -7.77025974e-03, -7.26801731e-02],\n",
       "       [-2.99497661e-03, -7.52816230e-03, -7.26421311e-02],\n",
       "       [-2.65922129e-03, -7.42927226e-03, -7.26061911e-02],\n",
       "       [-2.70850377e-03, -6.95738748e-03, -7.26473348e-02],\n",
       "       [-2.66275205e-03, -6.20038255e-03, -7.27029947e-02],\n",
       "       [-2.71248468e-03, -5.63262080e-03, -7.27545330e-02],\n",
       "       [-2.71432838e-03, -5.01621780e-03, -7.28043803e-02],\n",
       "       [-2.76417212e-03, -4.44683493e-03, -7.28562712e-02],\n",
       "       [-2.67024945e-03, -3.82887766e-03, -7.29085653e-02],\n",
       "       [-2.76849349e-03, -3.25827064e-03, -7.29704416e-02],\n",
       "       [-2.81874039e-03, -2.63871261e-03, -7.30291314e-02],\n",
       "       [-2.77294127e-03, -2.11395981e-03, -7.30880641e-02],\n",
       "       [-2.77531449e-03, -1.39668287e-03, -7.31510155e-02],\n",
       "       [-2.72864101e-03, -8.69806302e-04, -7.31899220e-02],\n",
       "       [-2.72991627e-03, -4.86311485e-04, -7.32243179e-02],\n",
       "       [-2.82770680e-03, -1.98487088e-04, -7.32624852e-02],\n",
       "       [-2.87819704e-03,  4.26025220e-04, -7.33214782e-02],\n",
       "       [-3.17006906e-03,  7.62996563e-04, -7.33800056e-02],\n",
       "       [-3.41389290e-03,  1.10043763e-03, -7.34340466e-02],\n",
       "       [-3.36661920e-03,  1.43775834e-03, -7.34565788e-02],\n",
       "       [-2.97950596e-03,  1.48559432e-03, -7.34416692e-02],\n",
       "       [-2.35050074e-03,  1.58114245e-03, -7.34087276e-02],\n",
       "       [-2.44898903e-03,  2.11200880e-03, -7.34667209e-02],\n",
       "       [-2.49923847e-03,  2.64367569e-03, -7.35237247e-02],\n",
       "       [-2.64612677e-03,  3.03123930e-03, -7.35743804e-02],\n",
       "       [-2.21016725e-03,  3.07884261e-03, -7.35597692e-02],\n",
       "       [-1.67781098e-03,  3.22315993e-03, -7.35528462e-02],\n",
       "       [-1.58216788e-03,  3.61133365e-03, -7.36047598e-02],\n",
       "       [-1.53486323e-03,  4.09668364e-03, -7.36582408e-02],\n",
       "       [-1.43927242e-03,  4.53526023e-03, -7.37252701e-02],\n",
       "       [-1.44012685e-03,  4.92473679e-03, -7.37693590e-02],\n",
       "       [-1.34457758e-03,  5.31740479e-03, -7.38513877e-02],\n",
       "       [-1.20038295e-03,  5.80880630e-03, -7.39457231e-02],\n",
       "       [-1.39454292e-03,  6.14639143e-03, -7.39259014e-02],\n",
       "       [-1.15308939e-03,  6.49488768e-03, -7.40326106e-02],\n",
       "       [-8.12613872e-04,  6.83769740e-03, -7.40670928e-02],\n",
       "       [-4.23109457e-04,  7.18127492e-03, -7.41062333e-02],\n",
       "       [ 1.13080781e-04,  7.42635161e-03, -7.41286514e-02],\n",
       "       [ 5.03432570e-04,  7.67385292e-03, -7.41730826e-02],\n",
       "       [ 8.45449625e-04,  7.92175757e-03, -7.42185593e-02],\n",
       "       [ 1.33582512e-03,  8.08113415e-03, -7.43423936e-02],\n",
       "       [ 1.92520371e-03,  8.04336953e-03, -7.44438600e-02],\n",
       "       [ 2.26902521e-03,  8.14481236e-03, -7.44792362e-02],\n",
       "       [ 2.86084408e-03,  8.20503992e-03, -7.45830583e-02],\n",
       "       [ 3.25531931e-03,  8.40580679e-03, -7.46296780e-02],\n",
       "       [ 3.74260987e-03,  8.59325301e-03, -7.45585871e-02],\n",
       "       [ 4.25078118e-03,  8.87469151e-03, -7.48718372e-02],\n",
       "       [ 4.81237042e-03,  9.10861986e-03, -7.51826942e-02],\n",
       "       [ 5.16940098e-03,  9.32534051e-03, -7.53413153e-02],\n",
       "       [ 7.91975305e-03,  8.16602411e-03, -7.55796755e-02],\n",
       "       [ 7.28814743e-03,  7.78184803e-03, -7.52176230e-02],\n",
       "       [ 6.81164952e-03,  7.40282963e-03, -7.48741276e-02],\n",
       "       [ 6.24028646e-03,  6.97712169e-03, -7.45199627e-02],\n",
       "       [ 5.88952611e-03,  6.57787102e-03, -7.44232198e-02],\n",
       "       [ 5.34592050e-03,  6.32790136e-03, -7.43515343e-02],\n",
       "       [ 4.84039075e-03,  5.82079168e-03, -7.40988970e-02],\n",
       "       [ 4.20703426e-03,  5.77252569e-03, -7.41026489e-02],\n",
       "       [ 3.32568587e-03,  5.86249442e-03, -7.40121307e-02],\n",
       "       [ 2.40272692e-03,  5.91578493e-03, -7.40719904e-02],\n",
       "       [ 1.71607651e-03,  5.80315075e-03, -7.38739285e-02],\n",
       "       [ 1.18307857e-03,  5.81040391e-03, -7.39662776e-02],\n",
       "       [ 5.50005131e-04,  5.75522391e-03, -7.38800935e-02],\n",
       "       [ 1.55074379e-05,  5.85931262e-03, -7.39716564e-02],\n",
       "       [-3.73605322e-04,  5.76069152e-03, -7.39502495e-02],\n",
       "       [-8.59762636e-04,  5.71072651e-03, -7.39307686e-02],\n",
       "       [ 4.49109111e-03,  5.42247539e-03, -7.39648466e-02],\n",
       "       [ 4.43359729e-03,  4.78280063e-03, -7.38179674e-02],\n",
       "       [ 4.37119343e-03,  4.09256422e-03, -7.35849604e-02],\n",
       "       [ 4.26559151e-03,  3.45852529e-03, -7.34337448e-02],\n",
       "       [ 4.20834146e-03,  2.87491862e-03, -7.32781191e-02],\n",
       "       [ 4.19841486e-03,  2.29321959e-03, -7.31051836e-02],\n",
       "       [ 4.09537046e-03,  1.66760180e-03, -7.29830432e-02],\n",
       "       [ 4.08863414e-03,  1.13960314e-03, -7.28632538e-02],\n",
       "       [ 4.08307763e-03,  6.61193175e-04, -7.27642463e-02],\n",
       "       [ 5.74055498e-03,  7.54263390e-04, -7.25426074e-02],\n",
       "       [ 4.93817826e-03,  8.03222564e-04, -7.26710564e-02],\n",
       "       [ 4.46495035e-03,  8.04071615e-04, -7.27479829e-02],\n",
       "       [ 5.36701390e-03,  9.45860519e-04, -7.26528733e-02],\n",
       "       [ 5.97846226e-03,  8.49251504e-04, -7.25346277e-02],\n",
       "       [ 6.54044870e-03,  8.95358240e-04, -7.24185971e-02],\n",
       "       [ 6.91453065e-03,  9.41873182e-04, -7.23457969e-02],\n",
       "       [ 7.51903498e-03,  8.45470948e-04, -7.22106800e-02],\n",
       "       [ 7.84596777e-03,  8.44876721e-04, -7.21598538e-02],\n",
       "       [ 3.46630095e-03,  9.01020336e-04, -7.28771466e-02],\n",
       "       [ 2.98967551e-03,  9.49638679e-04, -7.29430337e-02],\n",
       "       [ 2.36841507e-03,  9.98462726e-04, -7.30175699e-02],\n",
       "       [ 1.84157901e-03,  1.04712982e-03, -7.30742982e-02],\n",
       "       [ 1.21801278e-03,  1.14407218e-03, -7.31485448e-02],\n",
       "       [ 5.92894336e-04,  1.09673388e-03, -7.31884414e-02],\n",
       "       [-3.28988612e-05,  1.14535619e-03, -7.32302288e-02],\n",
       "       [-7.07363114e-04,  1.09762964e-03, -7.32475345e-02],\n",
       "       [-1.38282078e-03,  1.19449912e-03, -7.33002952e-02],\n",
       "       [-1.96281930e-03,  1.24346990e-03, -7.33552015e-02],\n",
       "       [ 6.97333599e-03, -8.28938912e-03, -7.10074499e-02],\n",
       "       [ 6.37414288e-03, -8.39292230e-03, -7.10960561e-02],\n",
       "       [ 5.86690041e-03, -8.49643552e-03, -7.11825383e-02],\n",
       "       [ 5.36230770e-03, -8.65316654e-03, -7.13207400e-02],\n",
       "       [ 4.94296064e-03, -8.75166863e-03, -7.13616976e-02],\n",
       "       [ 4.29105841e-03, -8.94958333e-03, -7.14482687e-02],\n",
       "       [ 3.63953495e-03, -9.15289288e-03, -7.15734231e-02],\n",
       "       [ 3.21938623e-03, -9.11596239e-03, -7.16517923e-02],\n",
       "       [ 2.70392156e-03, -9.07883599e-03, -7.17294462e-02],\n",
       "       [ 2.23424029e-03, -8.89915946e-03, -7.17968531e-02],\n",
       "       [ 1.66975584e-03, -8.76943987e-03, -7.18905878e-02],\n",
       "       [ 1.15113547e-03, -8.63931086e-03, -7.19839714e-02],\n",
       "       [ 6.31061182e-04, -8.55471104e-03, -7.20660870e-02],\n",
       "       [-1.27550348e-04, -8.33406799e-03, -7.22003252e-02],\n",
       "       [-6.03054471e-04, -8.20075680e-03, -7.22764435e-02],\n",
       "       [-1.12723968e-03, -8.11525288e-03, -7.23587127e-02],\n",
       "       [-1.70062851e-03, -7.84132198e-03, -7.24565674e-02],\n",
       "       [-2.41866647e-03, -7.70906068e-03, -7.25524889e-02],\n",
       "       [ 3.54417952e-03, -9.61868962e-03, -7.15491880e-02],\n",
       "       [ 3.49492124e-03, -9.98754583e-03, -7.15043973e-02],\n",
       "       [ 3.40147395e-03, -1.04111531e-02, -7.15171695e-02],\n",
       "       [ 3.30589021e-03, -1.09685958e-02, -7.14847163e-02],\n",
       "       [ 3.30526954e-03, -1.15285948e-02, -7.14712384e-02],\n",
       "       [ 3.20927317e-03, -1.20364279e-02, -7.14274109e-02],\n",
       "       [ 3.16170637e-03, -1.25022084e-02, -7.14141633e-02],\n",
       "       [ 5.87347587e-03,  3.73292087e-04, -7.24168643e-02],\n",
       "       [ 6.10373505e-03,  8.84281344e-05, -7.23234190e-02],\n",
       "       [ 6.28221432e-03, -4.32128303e-04, -7.21879832e-02],\n",
       "       [ 6.12717127e-03, -1.32825583e-03, -7.20399188e-02],\n",
       "       [ 6.12071262e-03, -1.75131031e-03, -7.19640545e-02],\n",
       "       [ 6.06651725e-03, -2.26752382e-03, -7.18828177e-02],\n",
       "       [ 5.96652213e-03, -2.83024667e-03, -7.18174223e-02],\n",
       "       [ 6.00527880e-03, -3.43724751e-03, -7.17162715e-02],\n",
       "       [ 5.90609875e-03, -4.04492399e-03, -7.16575815e-02],\n",
       "       [ 5.85329349e-03, -4.69782358e-03, -7.15882569e-02],\n",
       "       [ 5.84804328e-03, -5.25609191e-03, -7.15241107e-02],\n",
       "       [ 5.84061231e-03, -5.90481075e-03, -7.14333551e-02],\n",
       "       [ 5.79200409e-03, -6.41796315e-03, -7.14133058e-02],\n",
       "       [ 5.69443433e-03, -7.06867115e-03, -7.13678708e-02],\n",
       "       [ 5.73826621e-03, -7.48555700e-03, -7.13292627e-02],\n",
       "       [ 5.73271783e-03, -8.13213152e-03, -7.12603920e-02],\n",
       "       [ 5.30836827e-03,  2.31191966e-04, -7.25046873e-02],\n",
       "       [ 5.06973786e-03,  4.11261101e-05, -7.25019338e-02],\n",
       "       [ 4.87395350e-03, -3.86101419e-04, -7.24272491e-02],\n",
       "       [ 4.86644895e-03, -9.54213177e-04, -7.23158921e-02],\n",
       "       [ 4.76264862e-03, -1.75668484e-03, -7.21846711e-02],\n",
       "       [ 4.70878043e-03, -2.46293816e-03, -7.20869328e-02],\n",
       "       [ 4.70394088e-03, -2.93234585e-03, -7.20129569e-02],\n",
       "       [ 4.65256614e-03, -3.58996420e-03, -7.19509255e-02],\n",
       "       [ 4.59973213e-03, -4.43341246e-03, -7.18649143e-02],\n",
       "       [ 4.54814114e-03, -5.08793474e-03, -7.17967629e-02],\n",
       "       [ 4.54395291e-03, -5.69436865e-03, -7.17307503e-02],\n",
       "       [ 4.58478208e-03, -6.39066289e-03, -7.16317657e-02],\n",
       "       [ 4.48848183e-03, -6.85694008e-03, -7.15987691e-02],\n",
       "       [ 4.53007077e-03, -7.50474768e-03, -7.15120736e-02],\n",
       "       [ 4.43532774e-03, -8.11276596e-03, -7.15011875e-02],\n",
       "       [ 4.52623155e-03, -8.52855797e-03, -7.14515017e-02],\n",
       "       [ 2.65375266e-03,  7.58398834e-04, -7.29404114e-02],\n",
       "       [ 3.07964268e-03,  2.79848461e-04, -7.28015837e-02],\n",
       "       [ 3.36112467e-03, -2.44546634e-04, -7.26761164e-02],\n",
       "       [ 3.26162350e-03, -8.15115474e-04, -7.25896149e-02],\n",
       "       [ 3.30335339e-03, -1.52592180e-03, -7.24582571e-02],\n",
       "       [ 3.25267534e-03, -2.04636270e-03, -7.23910092e-02],\n",
       "       [ 3.20188301e-03, -2.51828633e-03, -7.23195341e-02],\n",
       "       [ 3.19794057e-03, -3.31990142e-03, -7.22304320e-02],\n",
       "       [ 3.19379905e-03, -3.88292098e-03, -7.21373384e-02],\n",
       "       [ 3.19023164e-03, -4.53970787e-03, -7.20569509e-02],\n",
       "       [ 3.09359122e-03, -5.24490024e-03, -7.20137296e-02],\n",
       "       [ 3.04274788e-03, -5.99317767e-03, -7.19317937e-02],\n",
       "       [ 2.99349545e-03, -6.46040650e-03, -7.18853483e-02],\n",
       "       [ 2.84917028e-03, -7.30204328e-03, -7.18229700e-02],\n",
       "       [ 2.84743518e-03, -7.86209219e-03, -7.17793244e-02],\n",
       "       [ 2.84499530e-03, -8.65437713e-03, -7.17179742e-02],\n",
       "       [ 2.17454259e-03,  5.67331907e-04, -7.29582790e-02],\n",
       "       [ 1.98155940e-03,  2.32517150e-04, -7.29201567e-02],\n",
       "       [ 2.02607883e-03, -4.83490358e-04, -7.27969786e-02],\n",
       "       [ 1.92825970e-03, -1.05485947e-03, -7.27196259e-02],\n",
       "       [ 1.92547175e-03, -1.76716511e-03, -7.26149436e-02],\n",
       "       [ 1.92320896e-03, -2.33548731e-03, -7.25299529e-02],\n",
       "       [ 1.92107625e-03, -2.95014833e-03, -7.24498489e-02],\n",
       "       [ 1.96598830e-03, -3.70468769e-03, -7.23494588e-02],\n",
       "       [ 1.91668188e-03, -4.31721383e-03, -7.22848560e-02],\n",
       "       [ 1.91478587e-03, -4.97551323e-03, -7.22136447e-02],\n",
       "       [ 1.86529999e-03, -5.77391296e-03, -7.21370860e-02],\n",
       "       [ 1.86309081e-03, -6.66427125e-03, -7.20520406e-02],\n",
       "       [ 1.86168091e-03, -7.27263861e-03, -7.19977645e-02],\n",
       "       [ 1.85992471e-03, -7.97290855e-03, -7.19302510e-02],\n",
       "       [ 1.85848325e-03, -8.57910387e-03, -7.18748267e-02],\n",
       "       [-6.10756177e-04,  7.61273770e-04, -7.32156612e-02],\n",
       "       [-3.21609987e-04,  5.21000483e-04, -7.31650602e-02],\n",
       "       [ 1.52221536e-05,  2.33084936e-04, -7.30960560e-02],\n",
       "       [ 2.07253924e-04, -2.93479743e-04, -7.30022813e-02],\n",
       "       [ 1.59053933e-04, -9.62241766e-04, -7.29242010e-02],\n",
       "       [ 2.06766692e-04, -1.53395528e-03, -7.28397078e-02],\n",
       "       [ 2.54272755e-04, -2.38956174e-03, -7.27290696e-02],\n",
       "       [ 2.06181989e-04, -3.19599063e-03, -7.26417097e-02],\n",
       "       [ 2.53701138e-04, -3.76361956e-03, -7.25715085e-02],\n",
       "       [ 1.58058585e-04, -4.61477893e-03, -7.24942730e-02],\n",
       "       [ 1.10271796e-04, -5.32272989e-03, -7.24305055e-02],\n",
       "       [ 1.57744975e-04, -5.98131719e-03, -7.23584628e-02],\n",
       "       [ 1.10070739e-04, -6.68786656e-03, -7.23070761e-02],\n",
       "       [ 1.57464598e-04, -7.24968358e-03, -7.22391411e-02],\n",
       "       [ 1.57382303e-04, -7.95549446e-03, -7.21999347e-02],\n",
       "       [-1.04396586e-03,  5.69247821e-04, -7.32027467e-02],\n",
       "       [-1.23560252e-03, -5.43682349e-05, -7.31459301e-02],\n",
       "       [-1.13800094e-03, -7.72468974e-04, -7.30563479e-02],\n",
       "       [-1.18534963e-03, -1.25049603e-03, -7.30125075e-02],\n",
       "       [-1.13590959e-03, -1.96575847e-03, -7.29208053e-02],\n",
       "       [-1.03911922e-03, -2.58480424e-03, -7.28584949e-02],\n",
       "       [-1.03828141e-03, -3.05980883e-03, -7.27996204e-02],\n",
       "       [-9.89278336e-04, -3.81879249e-03, -7.27164856e-02],\n",
       "       [-9.88409296e-04, -4.48196501e-03, -7.26517234e-02],\n",
       "       [-9.87467914e-04, -5.19115866e-03, -7.25819268e-02],\n",
       "       [-9.38814784e-04, -5.94638365e-03, -7.25107020e-02],\n",
       "       [-8.90340129e-04, -6.65327282e-03, -7.24463526e-02],\n",
       "       [-8.89613889e-04, -7.40679650e-03, -7.23865422e-02],\n",
       "       [-1.07979654e-03, -7.92669308e-03, -7.23689467e-02]])"
      ]
     },
     "execution_count": 16,
     "metadata": {},
     "output_type": "execute_result"
    }
   ],
   "source": [
    "pts3d_candidate\n"
   ]
  },
  {
   "cell_type": "code",
   "execution_count": 17,
   "id": "a8490e30",
   "metadata": {},
   "outputs": [],
   "source": [
    "min_distance = 1e12\n",
    "min_distance1 = 1e12\n",
    "min_distance2 = 1e12\n",
    "\n",
    "for i in range(4):\n",
    "    P2_candidate = P2Candidates[:, :, i]\n",
    "\n",
    "    # Adjust P2 if the determinant is not 1\n",
    "    if np.linalg.det(P2_candidate[:3, :3]) != 1:\n",
    "        P2_candidate = K2 @ P2_candidate\n",
    "\n",
    "    # Triangulate points\n",
    "    pts3d_candidate = triangulate(P1, pts1, P2_candidate, pts2)\n",
    "\n",
    "    # Project points back to image planes\n",
    "    x1 = P1 @ np.hstack((pts3d_candidate, np.ones((pts3d_candidate.shape[0], 1)))).T\n",
    "    x2 = P2_candidate @ np.hstack((pts3d_candidate, np.ones((pts3d_candidate.shape[0], 1)))).T\n",
    "\n",
    "    # Normalize points\n",
    "    epsilon = 1e-6  # A small threshold to prevent division by very small numbers\n",
    "    x1[:, x1[2, :] > epsilon] /= x1[2, x1[2, :] > epsilon]\n",
    "    x2[:, x2[2, :] > epsilon] /= x2[2, x2[2, :] > epsilon]\n",
    "\n",
    "    # Check if all points are in front of the camera\n",
    "    if np.all(pts3d_candidate[:, 2] > 0):\n",
    "        distance1 = np.linalg.norm(pts1 - x1[:2, :].T) / pts3d_candidate.shape[0]\n",
    "        distance2 = np.linalg.norm(pts2 - x2[:2, :].T) / pts3d_candidate.shape[0]\n",
    "        distance = distance1 + distance2\n",
    "\n",
    "        # Update if this is the minimum distance so far\n",
    "        if distance < min_distance:\n",
    "            min_distance = distance\n",
    "            min_distance1 = distance1\n",
    "            min_distance2 = distance2\n",
    "            pts3d = pts3d_candidate\n",
    "            P2 = P2_candidate"
   ]
  },
  {
   "cell_type": "code",
   "execution_count": 18,
   "id": "9a03fda9",
   "metadata": {},
   "outputs": [
    {
     "name": "stdout",
     "output_type": "stream",
     "text": [
      "Min pts1 error: 0.13934052947982276\n",
      "Min pts2 error: 0.14011750780081378\n"
     ]
    },
    {
     "data": {
      "image/png": "[encoded data removed]",
      "text/plain": [
       "<Figure size 640x480 with 1 Axes>"
      ]
     },
     "metadata": {},
     "output_type": "display_data"
    }
   ],
   "source": [
    "print(f'Min pts1 error: {min_distance1}')\n",
    "print(f'Min pts2 error: {min_distance2}')\n",
    "\n",
    "# Plot the 3D points\n",
    "fig = plt.figure()\n",
    "ax = fig.add_subplot(111, projection='3d')\n",
    "ax.scatter(pts3d_candidate[:, 0], pts3d_candidate[:, 1], pts3d_candidate[:, 2], c='k', marker='.')\n",
    "\n",
    "# Set equal scaling\n",
    "ax.set_box_aspect([1,1,1])  # matplotlib 3.1.0 and later\n",
    "\n",
    "# Enable rotation\n",
    "plt.show()"
   ]
  },
  {
   "cell_type": "code",
   "execution_count": 22,
   "id": "4237052c",
   "metadata": {},
   "outputs": [],
   "source": [
    "P = np.load('../results/extrinsics.npy', allow_pickle=True).tolist()\n",
    "R1, R2 = P['R1'], P['R2']\n",
    "t1, t2 = P['t1'], P['t2']"
   ]
  },
  {
   "cell_type": "code",
   "execution_count": 21,
   "id": "2abbd9c9",
   "metadata": {},
   "outputs": [
    {
     "data": {
      "text/plain": [
       "(3, 3)"
      ]
     },
     "execution_count": 21,
     "metadata": {},
     "output_type": "execute_result"
    }
   ],
   "source": [
    "R1.shape"
   ]
  },
  {
   "cell_type": "code",
   "execution_count": 23,
   "id": "1b82ebb2",
   "metadata": {},
   "outputs": [
    {
     "data": {
      "text/plain": [
       "(3,)"
      ]
     },
     "execution_count": 23,
     "metadata": {},
     "output_type": "execute_result"
    }
   ],
   "source": [
    "t1.shape"
   ]
  },
  {
   "cell_type": "code",
   "execution_count": null,
   "id": "60137738",
   "metadata": {},
   "outputs": [],
   "source": []
  }
 ],
 "metadata": {
  "kernelspec": {
   "display_name": "Python 3 (ipykernel)",
   "language": "python",
   "name": "python3"
  },
  "language_info": {
   "codemirror_mode": {
    "name": "ipython",
    "version": 3
   },
   "file_extension": ".py",
   "mimetype": "text/x-python",
   "name": "python",
   "nbconvert_exporter": "python",
   "pygments_lexer": "ipython3",
   "version": "3.9.5"
  }
 },
 "nbformat": 4,
 "nbformat_minor": 5
}
