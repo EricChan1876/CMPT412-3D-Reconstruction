{
 "cells": [
  {
   "cell_type": "code",
   "execution_count": 1,
   "id": "118c64b4",
   "metadata": {},
   "outputs": [],
   "source": [
    "import numpy as np\n",
    "import matplotlib.pyplot as plt\n",
    "import cv2\n",
    "import scipy.io as sio\n",
    "from PIL import Image\n",
    "from eightpoint import eightpoint\n",
    "from epipolarCorrespondence import epipolarCorrespondence\n",
    "from essentialMatrix import essentialMatrix\n",
    "from camera2 import camera2\n",
    "from triangulate import triangulate\n",
    "from displayEpipolarF import displayEpipolarF\n",
    "from epipolarMatchGUI import epipolarMatchGUI"
   ]
  },
  {
   "cell_type": "code",
   "execution_count": 2,
   "id": "af870c7e",
   "metadata": {},
   "outputs": [],
   "source": [
    "img1 = cv2.imread('../data/im1.png')\n",
    "img2 = cv2.imread('../data/im2.png')\n",
    "pts = np.load('../data/someCorresp.npy', allow_pickle=True).tolist()"
   ]
  },
  {
   "cell_type": "code",
   "execution_count": 3,
   "id": "4b7da3f9",
   "metadata": {},
   "outputs": [],
   "source": [
    "pts1 = pts['pts1']      #(x,y) coordinate in piture 1\n",
    "pts2 = pts['pts2']      #(x,y) coordinate in piture 2\n",
    "M = pts['M']            #scalar parameter\n",
    "\n",
    "# write your code here\n",
    "R1, t1 = np.eye(3), np.zeros((3, 1))\n",
    "R2, t2 = np.eye(3), np.zeros((3, 1))\n"
   ]
  },
  {
   "cell_type": "code",
   "execution_count": 4,
   "id": "b2f76c96",
   "metadata": {},
   "outputs": [],
   "source": [
    "F = eightpoint(pts1, pts2, M)"
   ]
  },
  {
   "cell_type": "code",
   "execution_count": 5,
   "id": "c5cb202b",
   "metadata": {},
   "outputs": [
    {
     "data": {
      "text/plain": [
       "(110, 2)"
      ]
     },
     "execution_count": 5,
     "metadata": {},
     "output_type": "execute_result"
    }
   ],
   "source": [
    "pts1.shape"
   ]
  },
  {
   "cell_type": "code",
   "execution_count": 6,
   "id": "580f1a91",
   "metadata": {},
   "outputs": [],
   "source": [
    "F = eightpoint(pts1, pts2, M)"
   ]
  },
  {
   "cell_type": "code",
   "execution_count": 7,
   "id": "c9563e13",
   "metadata": {},
   "outputs": [
    {
     "name": "stdout",
     "output_type": "stream",
     "text": [
      "[[    8142.99845387  -286032.58860567    46932.43417618]\n",
      " [  -74190.21348195    -1681.08375051 -1421124.67874739]\n",
      " [  -29639.61355395  1479701.49653325    -3733.19117748]]\n"
     ]
    }
   ],
   "source": [
    "print(F)"
   ]
  },
  {
   "cell_type": "code",
   "execution_count": null,
   "id": "3858ddf0",
   "metadata": {},
   "outputs": [
    {
     "name": "stderr",
     "output_type": "stream",
     "text": [
      "D:\\Eric\\CMPT412\\Project\\project4\\project5_package\\python\\displayEpipolarF.py:21: UserWarning: Matplotlib is currently using module://matplotlib_inline.backend_inline, which is a non-GUI backend, so cannot show the figure.\n",
      "  point = plt.ginput(1, timeout=-1, mouse_stop=3)\n"
     ]
    }
   ],
   "source": [
    "displayEpipolarF(img1, img2, F)"
   ]
  },
  {
   "cell_type": "code",
   "execution_count": null,
   "id": "f05abab9",
   "metadata": {},
   "outputs": [],
   "source": [
    "M"
   ]
  },
  {
   "cell_type": "code",
   "execution_count": null,
   "id": "3d0ae23f",
   "metadata": {},
   "outputs": [],
   "source": []
  }
 ],
 "metadata": {
  "kernelspec": {
   "display_name": "Python 3 (ipykernel)",
   "language": "python",
   "name": "python3"
  },
  "language_info": {
   "codemirror_mode": {
    "name": "ipython",
    "version": 3
   },
   "file_extension": ".py",
   "mimetype": "text/x-python",
   "name": "python",
   "nbconvert_exporter": "python",
   "pygments_lexer": "ipython3",
   "version": "3.9.5"
  }
 },
 "nbformat": 4,
 "nbformat_minor": 5
}
